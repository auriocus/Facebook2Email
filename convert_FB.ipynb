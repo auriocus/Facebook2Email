{
 "cells": [
  {
   "cell_type": "code",
   "execution_count": 1,
   "metadata": {},
   "outputs": [],
   "source": [
    "import json\n",
    "import mailbox\n",
    "import email"
   ]
  },
  {
   "cell_type": "code",
   "execution_count": 2,
   "metadata": {},
   "outputs": [],
   "source": [
    "fn='messages/inbox/anna_d0ta1k5dmg/message_1.json'\n",
    "data = json.load(open(fn))"
   ]
  },
  {
   "cell_type": "code",
   "execution_count": 3,
   "metadata": {},
   "outputs": [],
   "source": [
    "def utfdemangle(s):\n",
    "    # FB delivers strange JSON where all strings are encoded in UTF8 bytes\n",
    "    return s.encode('latin1').decode('utf8')"
   ]
  },
  {
   "cell_type": "code",
   "execution_count": 4,
   "metadata": {},
   "outputs": [],
   "source": [
    "msg=data['messages'][2]"
   ]
  },
  {
   "cell_type": "code",
   "execution_count": 5,
   "metadata": {},
   "outputs": [
    {
     "data": {
      "text/plain": [
       "{'sender_name': 'Christian Gollwitzer',\n",
       " 'timestamp_ms': 1651301847108,\n",
       " 'content': 'Bin leider etwas spÃ¤ter dran, gab mal wieder ZugausfÃ¤lle. Bin wahrscheinlich erst um 9:30 da.\\n\\nBin leider etwas spÃ¤ter dran, gab mal wieder ZugausfÃ¤lle. Bin wahrscheinlich erst um 9:30 da.',\n",
       " 'type': 'Generic',\n",
       " 'is_unsent': False,\n",
       " 'is_taken_down': False,\n",
       " 'bumped_message_metadata': {'bumped_message': 'Bin leider etwas spÃ¤ter dran, gab mal wieder ZugausfÃ¤lle. Bin wahrscheinlich erst um 9:30 da.\\n\\nBin leider etwas spÃ¤ter dran, gab mal wieder ZugausfÃ¤lle. Bin wahrscheinlich erst um 9:30 da.',\n",
       "  'is_bumped': False}}"
      ]
     },
     "execution_count": 5,
     "metadata": {},
     "output_type": "execute_result"
    }
   ],
   "source": [
    "msg"
   ]
  },
  {
   "cell_type": "code",
   "execution_count": 6,
   "metadata": {},
   "outputs": [],
   "source": [
    "m=email.message.EmailMessage()\n"
   ]
  },
  {
   "cell_type": "code",
   "execution_count": 7,
   "metadata": {},
   "outputs": [],
   "source": [
    "m['From']=utfdemangle(msg['sender_name'])\n",
    "m['To']='Group'\n",
    "m.set_content(utfdemangle(msg['content']))\n"
   ]
  },
  {
   "cell_type": "code",
   "execution_count": 8,
   "metadata": {},
   "outputs": [
    {
     "name": "stdout",
     "output_type": "stream",
     "text": [
      "From: Christian Gollwitzer\n",
      "To: Group\n",
      "Content-Type: text/plain; charset=\"utf-8\"\n",
      "Content-Transfer-Encoding: quoted-printable\n",
      "MIME-Version: 1.0\n",
      "\n",
      "Bin leider etwas sp=C3=A4ter dran, gab mal wieder Zugausf=C3=A4lle. Bin wahrs=\n",
      "cheinlich erst um 9:30 da.\n",
      "\n",
      "Bin leider etwas sp=C3=A4ter dran, gab mal wieder Zugausf=C3=A4lle. Bin wahrs=\n",
      "cheinlich erst um 9:30 da.\n",
      "\n"
     ]
    }
   ],
   "source": [
    "print(str(m))"
   ]
  },
  {
   "cell_type": "code",
   "execution_count": null,
   "metadata": {},
   "outputs": [],
   "source": []
  },
  {
   "cell_type": "code",
   "execution_count": null,
   "metadata": {},
   "outputs": [],
   "source": []
  }
 ],
 "metadata": {
  "kernelspec": {
   "display_name": "Python 3",
   "language": "python",
   "name": "python3"
  },
  "language_info": {
   "codemirror_mode": {
    "name": "ipython",
    "version": 3
   },
   "file_extension": ".py",
   "mimetype": "text/x-python",
   "name": "python",
   "nbconvert_exporter": "python",
   "pygments_lexer": "ipython3",
   "version": "3.6.15"
  }
 },
 "nbformat": 4,
 "nbformat_minor": 2
}
