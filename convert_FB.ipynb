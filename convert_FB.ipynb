{
 "cells": [
  {
   "cell_type": "code",
   "execution_count": 1,
   "metadata": {},
   "outputs": [],
   "source": [
    "import json\n",
    "import mailbox\n",
    "import email\n",
    "import html\n",
    "import mimetypes\n",
    "from datetime import datetime\n"
   ]
  },
  {
   "cell_type": "code",
   "execution_count": 2,
   "metadata": {},
   "outputs": [],
   "source": [
    "fn='messages/inbox/anna_d0ta1k5dmg/message_1.json'\n",
    "jdata = json.load(open(fn))"
   ]
  },
  {
   "cell_type": "code",
   "execution_count": 3,
   "metadata": {},
   "outputs": [],
   "source": [
    "def utfdemangle(s):\n",
    "    # FB delivers strange JSON where all strings are encoded in UTF8 bytes\n",
    "    return s.encode('latin1').decode('utf8')"
   ]
  },
  {
   "cell_type": "code",
   "execution_count": 4,
   "metadata": {},
   "outputs": [],
   "source": [
    "def group_messages(jdata):\n",
    "    # group messages accrodig to sender and time\n",
    "    # so that messages sent shortly after each other \n",
    "    # end up as multiple paragraphs\n",
    "    threshold_ms = 60000\n",
    "    rawmsgs = jdata['messages']\n",
    "    rawmsgs.sort(key=lambda m: m['timestamp_ms'])\n",
    "    oldts = 0\n",
    "    oldsender = None\n",
    "    group = None\n",
    "    groups = []\n",
    "    for msg in rawmsgs:\n",
    "        if msg['sender_name'] != oldsender or abs(msg['timestamp_ms'] - oldts) > threshold_ms:\n",
    "            if group is not None:\n",
    "                groups.append(group)\n",
    "            group = { 'sender_name': msg['sender_name'], 'timestamp_ms': msg['timestamp_ms'], 'messages' : []}\n",
    "\n",
    "        group['messages'].append(msg)\n",
    "        oldts = msg['timestamp_ms']\n",
    "        oldsender = msg['sender_name']\n",
    "\n",
    "    groups.append(group)\n",
    "\n",
    "    return groups"
   ]
  },
  {
   "cell_type": "code",
   "execution_count": 5,
   "metadata": {},
   "outputs": [
    {
     "data": {
      "text/plain": [
       "[1, 1, 2, 2, 2, 1, 1, 1, 2, 1, 1, 1, 1, 1, 1, 2, 1, 1, 1, 1, 1, 1]"
      ]
     },
     "execution_count": 5,
     "metadata": {},
     "output_type": "execute_result"
    }
   ],
   "source": [
    "mgroups = group_messages(jdata)\n",
    "[len(x['messages']) for x in mgroups]\n"
   ]
  },
  {
   "cell_type": "code",
   "execution_count": 6,
   "metadata": {},
   "outputs": [],
   "source": [
    "def format_email(msg):\n",
    "    m=email.message.EmailMessage()\n",
    "    m['From']=utfdemangle(msg['sender_name'])\n",
    "    \n",
    "    ts = msg['timestamp_ms']\n",
    "    dt=datetime.utcfromtimestamp(ts/1000)\n",
    "    m['Date']=email.utils.format_datetime(dt)\n",
    "    \n",
    "    plaintext=''\n",
    "    htmltext='<html><body>\\n'\n",
    "    attachements= {}\n",
    "    for paragraph in msg['messages']:\n",
    "        if 'content' in paragraph:\n",
    "            text = utfdemangle(paragraph['content'])\n",
    "            plaintext += text + '\\n'\n",
    "            htmltext += '<p>' + html.escape(text) + '</p>\\n'\n",
    "        if 'photos' in paragraph:\n",
    "            plaintext += str(len(paragraph['photos'])) + ' Photos'\n",
    "            for photo in paragraph['photos']:\n",
    "                image_cid = email.utils.make_msgid(domain='facebookexporter.invalid')\n",
    "                htmlcid = image_cid[1:-1] # whyever\n",
    "                uri = photo['uri']\n",
    "                htmltext += f'<p> <img src=\"cid:{htmlcid}\"> </p>\\n'\n",
    "                #print('embedding ' + uri + 'as ' + image_cid)\n",
    "                attachements[image_cid] = uri\n",
    "    htmltext += '</body> </html>\\n'\n",
    "    m.set_content(plaintext)\n",
    "    m.add_alternative(htmltext)\n",
    "    # attach images, if there are any\n",
    "    for cid,fn in attachements.items():\n",
    "        with open(fn, 'rb') as img:\n",
    "\n",
    "            # know the Content-Type of the image\n",
    "            maintype, subtype = mimetypes.guess_type(fn)[0].split('/')\n",
    "\n",
    "            # attach it\n",
    "            m.get_payload()[1].add_related(img.read(), \n",
    "                                                 maintype=maintype, \n",
    "                                                 subtype=subtype, \n",
    "                                         cid=cid)\n",
    "    return m\n"
   ]
  },
  {
   "cell_type": "code",
   "execution_count": 7,
   "metadata": {},
   "outputs": [],
   "source": [
    "onemail= str(format_email(mgroups[3]))"
   ]
  },
  {
   "cell_type": "code",
   "execution_count": 9,
   "metadata": {},
   "outputs": [],
   "source": [
    "with open('test.eml', 'wb') as f:\n",
    "    f.write(onemail.encode('utf-8'))"
   ]
  },
  {
   "cell_type": "code",
   "execution_count": null,
   "metadata": {},
   "outputs": [],
   "source": []
  }
 ],
 "metadata": {
  "kernelspec": {
   "display_name": "Python 3",
   "language": "python",
   "name": "python3"
  },
  "language_info": {
   "codemirror_mode": {
    "name": "ipython",
    "version": 3
   },
   "file_extension": ".py",
   "mimetype": "text/x-python",
   "name": "python",
   "nbconvert_exporter": "python",
   "pygments_lexer": "ipython3",
   "version": "3.6.15"
  }
 },
 "nbformat": 4,
 "nbformat_minor": 2
}
