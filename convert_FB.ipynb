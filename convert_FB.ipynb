{
 "cells": [
  {
   "cell_type": "code",
   "execution_count": null,
   "metadata": {},
   "outputs": [],
   "source": [
    "import json\n",
    "import mailbox\n",
    "import email\n",
    "import html\n",
    "import mimetypes\n",
    "import imghdr\n",
    "import os\n",
    "import re\n",
    "from datetime import datetime\n",
    "\n",
    "# set your display name so that it is removed from the folder titles\n",
    "myname='Christian Gollwitzer'"
   ]
  },
  {
   "cell_type": "code",
   "execution_count": null,
   "metadata": {},
   "outputs": [],
   "source": [
    "def shorten(string, N):\n",
    "    if len(string) > N:\n",
    "        return string[0:N]+ '...'\n",
    "    else:\n",
    "        return string"
   ]
  },
  {
   "cell_type": "code",
   "execution_count": null,
   "metadata": {},
   "outputs": [],
   "source": [
    "def shortennames(names, maxlen):\n",
    "    # create a short string of a set of names\n",
    "    \n",
    "    # first try: simply join and check\n",
    "    result = ', '.join(names)\n",
    "    if len(result) < maxlen:\n",
    "        return result\n",
    "    \n",
    "    # send try: Shorten second names to single letters\n",
    "    lastnameshort = [re.sub(r'^(\\S+\\s+\\S).*', r'\\1.', x) for x in names]\n",
    "    result = ', '.join(lastnameshort)\n",
    "    if len(result) < maxlen:\n",
    "        return result\n",
    "    else:\n",
    "        return shorten(result, maxlen - 5) + '(' + str(len(names)) + 'P)'    "
   ]
  },
  {
   "cell_type": "code",
   "execution_count": null,
   "metadata": {},
   "outputs": [],
   "source": [
    "def subsanitize(string):\n",
    "    return re.sub(r'\\s+', ' ', string)"
   ]
  },
  {
   "cell_type": "code",
   "execution_count": null,
   "metadata": {},
   "outputs": [],
   "source": [
    "def utfdemangle(s):\n",
    "    # FB delivers strange JSON where all strings are encoded in UTF8 bytes\n",
    "    return s.encode('latin1').decode('utf8')"
   ]
  },
  {
   "cell_type": "code",
   "execution_count": null,
   "metadata": {},
   "outputs": [],
   "source": [
    "def group_messages(jdata):\n",
    "    # group messages according to sender and time\n",
    "    # so that messages sent shortly after each other \n",
    "    # end up as multiple paragraphs\n",
    "    threshold_ms = 300000\n",
    "    rawmsgs = jdata['messages']\n",
    "    rawmsgs.sort(key=lambda m: m['timestamp_ms'])\n",
    "    oldts = 0\n",
    "    oldsender = None\n",
    "    group = None\n",
    "    groups = []\n",
    "    for msg in rawmsgs:\n",
    "        if msg['sender_name'] != oldsender or abs(msg['timestamp_ms'] - oldts) > threshold_ms:\n",
    "            if group is not None:\n",
    "                groups.append(group)\n",
    "            group = { 'sender_name': msg['sender_name'], 'timestamp_ms': msg['timestamp_ms'], 'messages' : []}\n",
    "\n",
    "        group['messages'].append(msg)\n",
    "        oldts = msg['timestamp_ms']\n",
    "        oldsender = msg['sender_name']\n",
    "\n",
    "    groups.append(group)\n",
    "\n",
    "    return groups"
   ]
  },
  {
   "cell_type": "code",
   "execution_count": null,
   "metadata": {},
   "outputs": [],
   "source": [
    "def format_email(msg):\n",
    "    m=email.message.EmailMessage()\n",
    "    m['From']=utfdemangle(msg['sender_name'])\n",
    "    \n",
    "    ts = msg['timestamp_ms']\n",
    "    dt=datetime.utcfromtimestamp(ts/1000)\n",
    "    m['Date']=email.utils.format_datetime(dt)\n",
    "    \n",
    "    plaintext=''\n",
    "    htmltext='<html><body>\\n'\n",
    "    attachements= {}\n",
    "    subject = None\n",
    "    for paragraph in msg['messages']:\n",
    "        if 'content' in paragraph:\n",
    "            text = utfdemangle(paragraph['content'])\n",
    "            plaintext += text + '\\n'\n",
    "            htmltext += '<p>' + html.escape(text) + '</p>\\n'\n",
    "            if subject is None:\n",
    "                subject = shorten(subsanitize(text), 30)\n",
    "        if 'photos' in paragraph:\n",
    "            # Code from Stackoverflow to construct HMTL email\n",
    "            # with inlined images https://stackoverflow.com/a/49098251\n",
    "            plaintext += str(len(paragraph['photos'])) + ' Photos'\n",
    "            htmltext += '<p>\\n'\n",
    "            for photo in paragraph['photos']:\n",
    "                image_cid = email.utils.make_msgid(domain='facebookexporter.local')\n",
    "                htmlcid = image_cid[1:-1] # whyever\n",
    "                uri = photo['uri']\n",
    "                htmltext += f'<img src=\"cid:{htmlcid}\" style=\"width: 50%\"> \\n'\n",
    "                #print('embedding ' + uri + 'as ' + image_cid)\n",
    "                attachements[image_cid] = uri\n",
    "            htmltext += '</p>'\n",
    "    htmltext += '</body> </html>\\n'\n",
    "    m.set_content(plaintext)\n",
    "    m.add_alternative(htmltext, subtype='html')\n",
    "    \n",
    "    if subject is not None:\n",
    "        m['Subject']=subject\n",
    "    \n",
    "    # attach images, if there are any\n",
    "    for cid,fn in attachements.items():\n",
    "        with open(fn, 'rb') as img:\n",
    "\n",
    "            # know the Content-Type of the image\n",
    "            maintype, subtype = mimetypes.guess_type(fn)[0].split('/')\n",
    "\n",
    "            # attach it\n",
    "            m.get_payload()[1].add_related(img.read(), \n",
    "                                                 maintype=maintype, \n",
    "                                                 subtype=subtype, \n",
    "                                         cid=cid)\n",
    "    return m\n"
   ]
  },
  {
   "cell_type": "code",
   "execution_count": null,
   "metadata": {},
   "outputs": [],
   "source": [
    "def convert_folder(path, outpath='FBMessages'):\n",
    "    try:\n",
    "        os.mkdir(outpath)\n",
    "    except FileExistsError:\n",
    "        pass\n",
    "    \n",
    "    jdata = json.load(open(path + '/message_1.json'))\n",
    "    mgroups = group_messages(jdata)\n",
    "    \n",
    "    # generate folder name from particpants\n",
    "    # due to \"left group messages\" this is reconstructed from the messages\n",
    "    uniqparticipants = set([utfdemangle(m['sender_name']) for m in jdata['messages']])\n",
    "    if myname is not None:\n",
    "        if myname in uniqparticipants:\n",
    "            uniqparticipants.remove(myname)\n",
    "    \n",
    "    fnbase = outpath + '/' + shortennames(uniqparticipants, 30)\n",
    "    outfn  = fnbase\n",
    "    i = 1\n",
    "    while os.path.exists(outfn):\n",
    "        outfn = fnbase + str(i)\n",
    "        i += 1\n",
    "    \n",
    "    print('Processing: ', outfn)\n",
    "    mbox = mailbox.mbox(outfn, create=True)\n",
    "    for msg in mgroups:\n",
    "        mbox.add(str(format_email(msg)).encode('utf-8'))\n"
   ]
  },
  {
   "cell_type": "code",
   "execution_count": null,
   "metadata": {},
   "outputs": [],
   "source": [
    "def convert_inbox():\n",
    "    # finds everything under messages/ and runs the conversion\n",
    "    topdir = 'messages/inbox'\n",
    "    dirs = os.listdir(topdir)\n",
    "    msgdirs = [topdir + '/' + d for d in dirs if os.path.exists(topdir + '/' + d + '/message_1.json')]\n",
    "    for d in msgdirs:\n",
    "        convert_folder(d)"
   ]
  },
  {
   "cell_type": "code",
   "execution_count": null,
   "metadata": {
    "scrolled": true
   },
   "outputs": [],
   "source": [
    "convert_inbox()"
   ]
  }
 ],
 "metadata": {
  "kernelspec": {
   "display_name": "Python 3",
   "language": "python",
   "name": "python3"
  },
  "language_info": {
   "codemirror_mode": {
    "name": "ipython",
    "version": 3
   },
   "file_extension": ".py",
   "mimetype": "text/x-python",
   "name": "python",
   "nbconvert_exporter": "python",
   "pygments_lexer": "ipython3",
   "version": "3.6.15"
  }
 },
 "nbformat": 4,
 "nbformat_minor": 2
}
