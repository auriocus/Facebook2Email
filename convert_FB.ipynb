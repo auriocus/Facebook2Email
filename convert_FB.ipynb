{
 "cells": [
  {
   "cell_type": "code",
   "execution_count": 1,
   "metadata": {},
   "outputs": [],
   "source": [
    "import json\n",
    "import mailbox\n",
    "import email"
   ]
  },
  {
   "cell_type": "code",
   "execution_count": 2,
   "metadata": {},
   "outputs": [],
   "source": [
    "fn='messages/inbox/anna_d0ta1k5dmg/message_1.json'\n",
    "jdata = json.load(open(fn))"
   ]
  },
  {
   "cell_type": "code",
   "execution_count": 3,
   "metadata": {},
   "outputs": [],
   "source": [
    "def utfdemangle(s):\n",
    "    # FB delivers strange JSON where all strings are encoded in UTF8 bytes\n",
    "    return s.encode('latin1').decode('utf8')"
   ]
  },
  {
   "cell_type": "code",
   "execution_count": 4,
   "metadata": {},
   "outputs": [],
   "source": [
    "def group_messages(jdata):\n",
    "    # group messages accrodig to sender and time\n",
    "    # so that messages sent shortly after each other \n",
    "    # end up as multiple paragraphs\n",
    "    threshold_ms = 60000\n",
    "    rawmsgs = jdata['messages']\n",
    "    rawmsgs.sort(key=lambda m: m['timestamp_ms'])\n",
    "    oldts = 0\n",
    "    oldsender = None\n",
    "    group = None\n",
    "    groups = []\n",
    "    for msg in rawmsgs:\n",
    "        if msg['sender_name'] != oldsender or abs(msg['timestamp_ms'] - oldts) > threshold_ms:\n",
    "            if group is not None:\n",
    "                groups.append(group)\n",
    "            group = { 'sender_name': msg['sender_name'], 'timestamp_ms': msg['timestamp_ms'], 'messages' : []}\n",
    "\n",
    "        group['messages'].append(msg)\n",
    "        oldts = msg['timestamp_ms']\n",
    "        oldsender = msg['sender_name']\n",
    "\n",
    "    groups.append(group)\n",
    "\n",
    "    return groups"
   ]
  },
  {
   "cell_type": "markdown",
   "metadata": {},
   "source": [
    "list??"
   ]
  },
  {
   "cell_type": "code",
   "execution_count": 6,
   "metadata": {},
   "outputs": [],
   "source": [
    "m=email.message.EmailMessage()\n"
   ]
  },
  {
   "cell_type": "code",
   "execution_count": 7,
   "metadata": {},
   "outputs": [],
   "source": [
    "m['From']=utfdemangle(msg['sender_name'])\n",
    "m['To']='Group'\n",
    "m.set_content(utfdemangle(msg['content']))\n"
   ]
  },
  {
   "cell_type": "code",
   "execution_count": null,
   "metadata": {},
   "outputs": [],
   "source": []
  },
  {
   "cell_type": "code",
   "execution_count": null,
   "metadata": {},
   "outputs": [],
   "source": []
  }
 ],
 "metadata": {
  "kernelspec": {
   "display_name": "Python 3",
   "language": "python",
   "name": "python3"
  },
  "language_info": {
   "codemirror_mode": {
    "name": "ipython",
    "version": 3
   },
   "file_extension": ".py",
   "mimetype": "text/x-python",
   "name": "python",
   "nbconvert_exporter": "python",
   "pygments_lexer": "ipython3",
   "version": "3.6.15"
  }
 },
 "nbformat": 4,
 "nbformat_minor": 2
}
